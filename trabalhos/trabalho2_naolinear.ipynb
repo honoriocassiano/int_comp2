{
 "cells": [
  {
   "cell_type": "code",
   "execution_count": 1,
   "metadata": {
    "collapsed": true,
    "deletable": true,
    "editable": true
   },
   "outputs": [],
   "source": [
    "import numpy as np\n",
    "import multiprocessing as mp\n",
    "\n",
    "from functools import partial\n",
    "from matplotlib import pyplot as plt"
   ]
  },
  {
   "cell_type": "code",
   "execution_count": 15,
   "metadata": {
    "collapsed": true,
    "deletable": true,
    "editable": true
   },
   "outputs": [],
   "source": [
    "\"\"\"\n",
    "Gera uma reta aleatória\n",
    "\"\"\"\n",
    "def f(x):\n",
    "    \n",
    "    y = np.square(x[:, 0]) + np.square(x[:, 1]) - 0.6\n",
    "    \n",
    "    y = np.where(y > 0, 1, -1)\n",
    "\n",
    "    return y\n",
    "\n",
    "def add_noise(y, perc_noise=0.1):\n",
    "    n_noise = int(y.shape[0] * perc_noise)\n",
    "    \n",
    "    indices = np.arange(y.shape[0])\n",
    "    \n",
    "    np.random.shuffle(indices)\n",
    "    \n",
    "    noise = indices[:n_noise]\n",
    "    \n",
    "    y[noise] = -y[noise]\n",
    "    \n",
    "    return y\n",
    "\n",
    "\"\"\"\n",
    "Gera os dados baseados em uma reta\n",
    "\"\"\"\n",
    "def generate_data(n):\n",
    "    \n",
    "    # Gera 'n' pontos (x, y) aleatoriamente entre 0 e 1\n",
    "    # e os converte para o intervalo -1 e 1\n",
    "    points = (np.random.rand(n, 2) * 2) - 1\n",
    "    \n",
    "    return points\n",
    "\n",
    "\"\"\"\n",
    "Calcula os valores de saída da função ideal\n",
    "\"\"\"\n",
    "def calc_linear_y(weights, data):\n",
    "    \n",
    "    y = weights[0] + np.dot(data, weights[1:])\n",
    "    \n",
    "    # Transforma os valores em -1 ou 1\n",
    "    # Valores em cima da reta são considerados -1\n",
    "    y = np.where(y > 0, 1, -1)\n",
    "    \n",
    "    return y"
   ]
  },
  {
   "cell_type": "code",
   "execution_count": 3,
   "metadata": {
    "collapsed": true,
    "deletable": true,
    "editable": true
   },
   "outputs": [],
   "source": [
    "def lin_regression(x, y):\n",
    "    \n",
    "    m_x = np.concatenate((np.ones((x.shape[0], 1)), x), axis=1)\n",
    "    \n",
    "    x_dagger = np.dot( np.linalg.inv( np.dot(m_x.T , m_x) ), m_x.T)\n",
    "\n",
    "    w_lin = np.dot(x_dagger, y)\n",
    "    \n",
    "    return w_lin"
   ]
  },
  {
   "cell_type": "code",
   "execution_count": 20,
   "metadata": {
    "collapsed": true,
    "deletable": true,
    "editable": true
   },
   "outputs": [],
   "source": [
    "def calc_error(line, w):\n",
    "    \n",
    "    # Gera mil pontos para serem avaliados\n",
    "    ev_data = generate_data(line, 1000)\n",
    "    \n",
    "    # Saída ideal\n",
    "    ev_f_y = calc_y(line, ev_data)\n",
    "    \n",
    "    # Saída gerada pela g(x)\n",
    "    ev_g_y = calc_y(w, ev_data)\n",
    "    \n",
    "    # Conta todos os pontos em que as saídas não foram iguais\n",
    "    misclassified = np.count_nonzero(ev_f_y - ev_g_y)\n",
    "\n",
    "    # Calcula a porcentagem dos pontos classificados erroneamente\n",
    "    return misclassified / ev_data.shape[0]\n",
    "\n",
    "\n",
    "def experiment_1(N):\n",
    "  \n",
    "    np.random.seed()\n",
    "    \n",
    "#     line = generate_line()\n",
    "\n",
    "    x = generate_data(N)\n",
    "    \n",
    "    y = f(x)\n",
    "    \n",
    "    y = add_noise(y, 0.1)\n",
    "    \n",
    "    w_lin = lin_regression(x, y)\n",
    "    \n",
    "    y_g = calc_linear_y(w_lin, x)\n",
    "\n",
    "    e_in = np.count_nonzero( y - y_g ) / y.shape[0]\n",
    "#     e_out = calc_error(line, w_lin)\n",
    "    \n",
    "#     w_perc, it = perceptron(x, y, weights=w_lin)\n",
    "    \n",
    "    return e_in\n",
    "#     return [e_in, e_out, it]\n",
    "#     np.random.seed()\n",
    "    \n",
    "#     line = generate_line()\n",
    "\n",
    "#     x = generate_data(line, N)\n",
    "#     y = calc_y(line, x)\n",
    "    \n",
    "#     w_lin = lin_regression(x, y)\n",
    "    \n",
    "#     y_g = calc_y(w_lin, x)\n",
    "\n",
    "#     e_in = np.count_nonzero( y - y_g ) / y.shape[0]\n",
    "#     e_out = calc_error(line, w_lin)\n",
    "    \n",
    "#     w_perc, it = perceptron(x, y, weights=w_lin)\n",
    "    \n",
    "#     return [e_in, e_out, it]"
   ]
  },
  {
   "cell_type": "code",
   "execution_count": 5,
   "metadata": {
    "collapsed": true
   },
   "outputs": [],
   "source": [
    "\"\"\"\n",
    "Calcula os valores de saída da função ideal\n",
    "\"\"\"\n",
    "def calc_non_linear_y(weights, data):\n",
    "    \n",
    "#     y = weights[0] + np.dot(data, weights[1:])\n",
    "    y = weights[0] + np.dot(data, weights[1:])\n",
    "    \n",
    "    # Transforma os valores em -1 ou 1\n",
    "    # Valores em cima da reta são considerados -1\n",
    "    y = np.where(y > 0, 1, -1)\n",
    "    \n",
    "    return y\n",
    "\n",
    "def experiment_2(N):\n",
    "  \n",
    "    np.random.seed()\n",
    "    \n",
    "#     line = generate_line()\n",
    "\n",
    "    x = generate_data(N)\n",
    "    y = f(x)\n",
    "    \n",
    "    w_lin = lin_regression(x, y)\n",
    "    \n",
    "    y_g = calc_linear_y(w_lin, x)\n",
    "\n",
    "    e_in = np.count_nonzero( y - y_g ) / y.shape[0]\n",
    "    \n",
    "    return e_in"
   ]
  },
  {
   "cell_type": "code",
   "execution_count": 8,
   "metadata": {
    "collapsed": false,
    "deletable": true,
    "editable": true
   },
   "outputs": [],
   "source": [
    "\"\"\"\n",
    "Executa um certo número de experimentos paralelamente\n",
    "Caso o número de processos não seja espeficidado,\n",
    "o multiprocessing utiliza o valor padrão,\n",
    "que costuma ser o número de processadores\n",
    "\"\"\"\n",
    "def run_experiment(N, num_exp, exp_id, processes=None):\n",
    "    pool = mp.Pool(processes)\n",
    "    \n",
    "    function = None\n",
    "    \n",
    "    if exp_id == 1:\n",
    "        function = experiment_1\n",
    "    elif exp_id == 2:\n",
    "        function = experiment_2\n",
    "    else:\n",
    "        print('Invalid experiment!')\n",
    "        return None\n",
    "    # Executa os experimentos 'num_exp' vezes, passando como\n",
    "    # parâmetro para cada um, o número de dados N a serem gerados\n",
    "    results = np.array(pool.map(function, [N] * num_exp))\n",
    "    \n",
    "    pool.close()\n",
    "    \n",
    "    # Calcula a média dos resuldados por coluna (iterações, erro)\n",
    "    return np.mean(results, axis=0)"
   ]
  },
  {
   "cell_type": "code",
   "execution_count": 22,
   "metadata": {
    "collapsed": false,
    "deletable": true,
    "editable": true
   },
   "outputs": [
    {
     "data": {
      "text/plain": [
       "0.50347500000000001"
      ]
     },
     "execution_count": 22,
     "metadata": {},
     "output_type": "execute_result"
    }
   ],
   "source": [
    "run_experiment(1000, 1000, 1)"
   ]
  },
  {
   "cell_type": "code",
   "execution_count": null,
   "metadata": {
    "collapsed": true
   },
   "outputs": [],
   "source": [
    "#run_experiment(1000, 1000)"
   ]
  }
 ],
 "metadata": {
  "kernelspec": {
   "display_name": "Python 3",
   "language": "python",
   "name": "python3"
  },
  "language_info": {
   "codemirror_mode": {
    "name": "ipython",
    "version": 3
   },
   "file_extension": ".py",
   "mimetype": "text/x-python",
   "name": "python",
   "nbconvert_exporter": "python",
   "pygments_lexer": "ipython3",
   "version": "3.5.2"
  }
 },
 "nbformat": 4,
 "nbformat_minor": 2
}
