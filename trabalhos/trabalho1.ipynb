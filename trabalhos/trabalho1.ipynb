{
 "cells": [
  {
   "cell_type": "code",
   "execution_count": 1,
   "metadata": {
    "collapsed": true,
    "deletable": true,
    "editable": true
   },
   "outputs": [],
   "source": [
    "import numpy as np\n",
    "import matplotlib.pyplot as plt\n",
    "import multiprocessing as mp"
   ]
  },
  {
   "cell_type": "code",
   "execution_count": 2,
   "metadata": {
    "collapsed": true,
    "deletable": true,
    "editable": true
   },
   "outputs": [],
   "source": [
    "def generate_line():\n",
    "    \n",
    "    d = 2\n",
    "    \n",
    "    p1 = np.random.rand(d)\n",
    "    p2 = np.random.rand(d)\n",
    "    \n",
    "    a = (p2[1] - p1[1]) / (p2[0] - p1[0])\n",
    "    b = p1[1] - a*p1[0]\n",
    "\n",
    "    return np.array([b, a, -1])\n",
    "\n",
    "def generate_data(line, n):\n",
    "    points = np.dot(np.random.rand(n, line.shape[0]-1), 2) - 1\n",
    "    \n",
    "    return points\n",
    "\n",
    "def calc_y(line, data):\n",
    "    y = line[0] + np.dot(data, line[1:])\n",
    "    \n",
    "    y = np.where(y > 0, 1, -1)\n",
    "    \n",
    "    return y"
   ]
  },
  {
   "cell_type": "code",
   "execution_count": 3,
   "metadata": {
    "collapsed": false,
    "deletable": true,
    "editable": true
   },
   "outputs": [],
   "source": [
    "def perceptron(data, y, weights=None):\n",
    "    if weights is None:\n",
    "        weights = np.zeros(data.shape[1]+1 if len(data.shape) > 1 else 1)\n",
    "        \n",
    "    it = 0\n",
    "    \n",
    "    m_data = np.concatenate((np.ones((data.shape[0], 1)), data), axis=1)\n",
    "    \n",
    "    miscl_mask = np.ones(m_data.shape[0], dtype=bool)\n",
    "    \n",
    "    miscl_data = m_data[miscl_mask]\n",
    "    \n",
    "    while miscl_data.shape[0] > 0:\n",
    "        \n",
    "        miscl_y = y[miscl_mask]\n",
    "\n",
    "        i = np.random.randint(miscl_data.shape[0])\n",
    "\n",
    "        weights += miscl_y[i] * miscl_data[i]\n",
    "\n",
    "        temp = np.sign(np.dot(m_data, weights))\n",
    "        \n",
    "        miscl_mask = np.array( temp - y, dtype=bool)\n",
    "        miscl_data = m_data[miscl_mask]\n",
    "        \n",
    "        it += 1\n",
    "        \n",
    "    return weights, it"
   ]
  },
  {
   "cell_type": "code",
   "execution_count": 4,
   "metadata": {
    "collapsed": true
   },
   "outputs": [],
   "source": [
    "def plot_experiment(data, y, line, w_line):\n",
    "    colormap = [ 'r' if y_n > 0 else 'g' for y_n in y ]\n",
    "    \n",
    "    plt.ylim([-1, 1])\n",
    "    plt.xlim([-1, 1])\n",
    "    \n",
    "    f = lambda x: -(line[0]/line[2] + (line[1]/line[2]) * x)\n",
    "    g = lambda x: -(w_line[0]/w_line[2] + (w_line[1]/w_line[2]) * x)\n",
    "    \n",
    "    bounds = np.array([-1, 1])\n",
    "    \n",
    "    f_y = f(bounds)\n",
    "    g_y = g(bounds)\n",
    "    \n",
    "    plt.plot(bounds, f_y, label='f(x)')\n",
    "    plt.plot(bounds, g_y, label='g(x)')\n",
    "    \n",
    "    plt.legend(bbox_to_anchor=(1,1), loc=\"upper left\")\n",
    "    \n",
    "    plt.scatter(data[:, 0], data[:, 1], c=colormap)\n",
    "    plt.show()"
   ]
  },
  {
   "cell_type": "code",
   "execution_count": 5,
   "metadata": {
    "collapsed": false,
    "deletable": true,
    "editable": true
   },
   "outputs": [],
   "source": [
    "def experiment(N, plot=False):\n",
    "    \n",
    "    line = generate_line()\n",
    "    data = generate_data(line, N)\n",
    "    y = calc_y(line, data)\n",
    "    \n",
    "    w, it = perceptron(data, y)\n",
    "\n",
    "    if plot:\n",
    "        plot_experiment(data, y, line, w)\n",
    "        \n",
    "    else:\n",
    "        error = calc_error(line, w)\n",
    "        \n",
    "        return [it, error]\n",
    "    \n",
    "def calc_error(line, w):\n",
    "    \n",
    "    ev_data = generate_data(line, 1000)\n",
    "    ev_f_y = calc_y(line, ev_data)\n",
    "    ev_g_y = calc_y(w, ev_data)\n",
    "    \n",
    "    misclassified = np.count_nonzero(ev_f_y - ev_g_y)\n",
    "\n",
    "    return misclassified / ev_data.shape[0]"
   ]
  },
  {
   "cell_type": "code",
   "execution_count": 6,
   "metadata": {
    "collapsed": true,
    "deletable": true,
    "editable": true
   },
   "outputs": [],
   "source": [
    "def run_experiment(N, num_exp, processes=None):\n",
    "    pool = mp.Pool(processes)\n",
    "    \n",
    "    results = np.array(pool.map(experiment, [N] * num_exp))\n",
    "    \n",
    "    return np.mean(results, axis=0)"
   ]
  },
  {
   "cell_type": "code",
   "execution_count": 13,
   "metadata": {
    "collapsed": false,
    "deletable": true,
    "editable": true
   },
   "outputs": [
    {
     "name": "stdout",
     "output_type": "stream",
     "text": [
      "Questão 1: 8.943\n",
      "Questão 2: 0.097891\n",
      "Questão 3: 84.382\n",
      "Questão 4: 0.012959\n"
     ]
    }
   ],
   "source": [
    "question_1, question_2 = run_experiment(10, 1000)\n",
    "question_3, question_4 = run_experiment(100, 1000)\n",
    "\n",
    "\n",
    "print('Questão 1:', question_1)\n",
    "print('Questão 2:', question_2)\n",
    "\n",
    "print('Questão 3:', question_3)\n",
    "print('Questão 4:', question_4)"
   ]
  },
  {
   "cell_type": "code",
   "execution_count": 8,
   "metadata": {
    "collapsed": false
   },
   "outputs": [
    {
     "data": {
      "image/png": "[encoded data removed]",
      "text/plain": [
       "<matplotlib.figure.Figure at 0x7fc5af9b00f0>"
      ]
     },
     "metadata": {},
     "output_type": "display_data"
    }
   ],
   "source": [
    "experiment(10, True)"
   ]
  }
 ],
 "metadata": {
  "kernelspec": {
   "display_name": "Python 3",
   "language": "python",
   "name": "python3"
  },
  "language_info": {
   "codemirror_mode": {
    "name": "ipython",
    "version": 3
   },
   "file_extension": ".py",
   "mimetype": "text/x-python",
   "name": "python",
   "nbconvert_exporter": "python",
   "pygments_lexer": "ipython3",
   "version": "3.5.2"
  }
 },
 "nbformat": 4,
 "nbformat_minor": 2
}
