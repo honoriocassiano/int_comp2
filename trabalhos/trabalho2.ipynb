{
 "cells": [
  {
   "cell_type": "code",
   "execution_count": 1,
   "metadata": {
    "collapsed": true
   },
   "outputs": [],
   "source": [
    "import numpy as np\n",
    "import multiprocessing as mp"
   ]
  },
  {
   "cell_type": "code",
   "execution_count": 2,
   "metadata": {
    "collapsed": true
   },
   "outputs": [],
   "source": [
    "###########################################\n",
    "############ Questões 1, 2 e 3 ############\n",
    "###########################################\n",
    "\n",
    "\"\"\"\n",
    "Gera uma reta aleatória\n",
    "\"\"\"\n",
    "def generate_line():\n",
    "    \n",
    "    # Dimensões do poblema\n",
    "    d = 2\n",
    "    \n",
    "    # Gera 2 pontos aleatórios entre 0 e 1 e os converte para\n",
    "    # o intervalo entre -1 e 1\n",
    "    p1 = np.random.rand(d) * 2 - 1\n",
    "    p2 = np.random.rand(d) * 2 - 1\n",
    "    \n",
    "    # Calcula a reta na forma `y=ax + b` entre os pontos\n",
    "    a = (p2[1] - p1[1]) / (p2[0] - p1[0])\n",
    "    b = p1[1] - a*p1[0]\n",
    "\n",
    "    return np.array([b, a, -1])\n",
    "\n",
    "\"\"\"\n",
    "Gera os dados baseados em uma reta\n",
    "\"\"\"\n",
    "def generate_data(n):\n",
    "    \n",
    "    # Gera 'n' pontos (x, y) aleatoriamente entre 0 e 1\n",
    "    # e os converte para o intervalo -1 e 1\n",
    "    points = (np.random.rand(n, 2) * 2) - 1\n",
    "    \n",
    "    return points\n",
    "\n",
    "\"\"\"\n",
    "Calcula os valores de saída da função ideal\n",
    "\"\"\"\n",
    "def calc_y(line, data):\n",
    "    \n",
    "    y = line[0] + np.dot(data, line[1:])\n",
    "    \n",
    "    # Transforma os valores em -1 ou 1\n",
    "    # Valores em cima da reta são considerados -1\n",
    "    y = np.where(y > 0, 1, -1)\n",
    "    \n",
    "    return y\n",
    "\n",
    "\"\"\"\n",
    "Executa o perceptron para um conjunto de dados e de pesos iniciais\n",
    "Caso os pesos não sejam especificados, eles serão o vetor nulo\n",
    "\"\"\"\n",
    "def perceptron(data, y, weights=None):\n",
    "    if weights is None:\n",
    "        # Cria um vetor de zeros do tamanho da quantidade de dimensões + viés\n",
    "        weights = np.zeros(data.shape[1]+1 if len(data.shape) > 1 else 1)\n",
    "        \n",
    "    # Contador de iterações\n",
    "    it = 0\n",
    "    \n",
    "    # Adiciona a coluna do viés ao X\n",
    "    m_data = np.concatenate((np.ones((data.shape[0], 1)), data), axis=1)\n",
    "    \n",
    "    # Vetor que indica quais pontos estão classificados erroneamente\n",
    "    # Inicialmente começa com 1(True) para todos os valores,\n",
    "    # pois nenhum dado foi classificado\n",
    "    miscl_mask = np.ones(m_data.shape[0], dtype=bool)\n",
    "    \n",
    "    # Filtra os dados para que não foram classificados\n",
    "    miscl_data = m_data[miscl_mask]\n",
    "    \n",
    "    # Executar até que não haja mais pontos classificados erroneamente\n",
    "    while miscl_data.shape[0] > 0:\n",
    "        \n",
    "        # Filtra os dados de saída não classificados\n",
    "        miscl_y = y[miscl_mask]\n",
    "\n",
    "        # Seleciona um ponto aleatório dentro o conjunto dos não classificados\n",
    "        i = np.random.randint(miscl_data.shape[0])\n",
    "\n",
    "        # Atualiza os pesos\n",
    "        weights += miscl_y[i] * miscl_data[i]\n",
    "\n",
    "        # Calcula as saídas com os novos pesos\n",
    "        temp = np.sign(np.dot(m_data, weights))\n",
    "        \n",
    "        # Atualiza os pontos não classificados\n",
    "        # Caso os valores calculados sejam diferentes dos corretos\n",
    "        # a subtração vai dar um valor diferente de 0\n",
    "        # que quando convertido para um tipo 'bool' valerá 'True'\n",
    "        # ou seja, classificado erroneamente\n",
    "        miscl_mask = np.array( temp - y, dtype=bool)\n",
    "        \n",
    "        # Atualiza os dados classificados erroneamente\n",
    "        miscl_data = m_data[miscl_mask]\n",
    "        \n",
    "        # Atualiza a iteração do algoritmo\n",
    "        it += 1\n",
    "        \n",
    "    # Retorna os pesos finais e o número de iterações\n",
    "    return weights, it\n",
    "\n",
    "def linear_regression(x, y):\n",
    "    \n",
    "    m_x = np.concatenate((np.ones((x.shape[0], 1)), x), axis=1)\n",
    "    \n",
    "    x_dagger = np.dot( np.linalg.inv( np.dot(m_x.T , m_x) ), m_x.T)\n",
    "\n",
    "    w_lin = np.dot(x_dagger, y)\n",
    "    \n",
    "    return w_lin\n",
    "\n",
    "\"\"\"\n",
    "Calcula os valores de saída da função ideal\n",
    "\"\"\"\n",
    "def calc_linear_y(weights, data):\n",
    "    \n",
    "    y = weights[0] + np.dot(data, weights[1:])\n",
    "    \n",
    "    # Transforma os valores em -1 ou 1\n",
    "    # Valores em cima da reta são considerados -1\n",
    "    y = np.where(y > 0, 1, -1)\n",
    "    \n",
    "    return y\n",
    "\n",
    "def calc_linear_e_out(line, w):\n",
    "    \n",
    "    # Gera mil pontos para serem avaliados\n",
    "    ev_data = generate_data(1000)\n",
    "    \n",
    "    # Saída ideal\n",
    "    ev_f_y = calc_y(line, ev_data)\n",
    "    \n",
    "    # Saída gerada pela g(x)\n",
    "    ev_g_y = calc_y(w, ev_data)\n",
    "    \n",
    "    # Conta todos os pontos em que as saídas não foram iguais\n",
    "    misclassified = np.count_nonzero(ev_f_y - ev_g_y)\n",
    "\n",
    "    # Calcula a porcentagem dos pontos classificados erroneamente\n",
    "    return misclassified / ev_data.shape[0]"
   ]
  },
  {
   "cell_type": "code",
   "execution_count": 3,
   "metadata": {
    "collapsed": true
   },
   "outputs": [],
   "source": [
    "###########################################\n",
    "############ Questões 4, 5 e 6 ############\n",
    "###########################################\n",
    "\n",
    "\"\"\"\n",
    "Gera uma reta aleatória\n",
    "\"\"\"\n",
    "def f(x):\n",
    "    \n",
    "    y = np.square(x[:, 0]) + np.square(x[:, 1]) - 0.6\n",
    "    \n",
    "    y = np.where(y > 0, 1, -1)\n",
    "\n",
    "    return y\n",
    "\n",
    "def add_noise(y, perc_noise=0.1):\n",
    "    n_noise = int(y.shape[0] * perc_noise)\n",
    "    \n",
    "    indices = np.arange(y.shape[0])\n",
    "    \n",
    "    np.random.shuffle(indices)\n",
    "    \n",
    "    noise = indices[:n_noise]\n",
    "    \n",
    "    y[noise] = -y[noise]\n",
    "\n",
    "\n",
    "\n",
    "def transform_data(x):\n",
    "    \n",
    "    m_x = np.column_stack((\n",
    "        np.ones((x.shape[0])),\n",
    "        x,\n",
    "        np.multiply(x[:, 0], x[:, 1]),\n",
    "        np.square(x[:, 0]),\n",
    "        np.square(x[:, 1])\n",
    "    ))\n",
    "    \n",
    "    return m_x\n",
    "\n",
    "def nonlinear_regression(x, y):\n",
    "       \n",
    "    m_x = transform_data(x)\n",
    "    \n",
    "    x_dagger = np.dot( np.linalg.inv( np.dot(m_x.T , m_x) ), m_x.T)\n",
    "\n",
    "    w_lin = np.dot(x_dagger, y)\n",
    "    \n",
    "    return w_lin\n",
    "\n",
    "\"\"\"\n",
    "Calcula os valores de saída da função ideal\n",
    "\"\"\"\n",
    "def calc_nonlinear_y(weights, data):\n",
    "    \n",
    "    y = np.dot(data, weights)\n",
    "    \n",
    "    # Transforma os valores em -1 ou 1\n",
    "    # Valores em cima da reta são considerados -1\n",
    "    y = np.where(y > 0, 1, -1)\n",
    "    \n",
    "    return y\n",
    "\n",
    "def calc_nonlinear_e_out(w_f, w):\n",
    "    \n",
    "    # Gera mil pontos para serem avaliados\n",
    "    ev_data = generate_data(1000)\n",
    "    \n",
    "    # Saída ideal\n",
    "    ev_f_y = f(ev_data)\n",
    "    \n",
    "    add_noise(ev_f_y)\n",
    "    \n",
    "    mev_data = transform_data(ev_data)\n",
    "\n",
    "    # Saída gerada pela g(x)\n",
    "    ev_g_y = calc_nonlinear_y(w, mev_data)\n",
    "    \n",
    "    # Conta todos os pontos em que as saídas não foram iguais\n",
    "    misclassified = np.count_nonzero(ev_f_y - ev_g_y)\n",
    "\n",
    "    # Calcula a porcentagem dos pontos classificados erroneamente\n",
    "    return misclassified / ev_data.shape[0]"
   ]
  },
  {
   "cell_type": "code",
   "execution_count": 4,
   "metadata": {
    "collapsed": true,
    "deletable": true,
    "editable": true
   },
   "outputs": [],
   "source": [
    "def experiment_1(N):\n",
    "    \n",
    "    np.random.seed()\n",
    "    \n",
    "    line = generate_line()\n",
    "\n",
    "    x = generate_data(N)\n",
    "    y = calc_y(line, x)\n",
    "    \n",
    "    w_lin = linear_regression(x, y)\n",
    "    \n",
    "    y_g = calc_y(w_lin, x)\n",
    "\n",
    "    e_in = np.count_nonzero( y - y_g ) / y.shape[0]\n",
    "    e_out = calc_linear_e_out(line, w_lin)\n",
    "    \n",
    "    w_perc, it = perceptron(x, y, weights=w_lin)\n",
    "    \n",
    "    return [e_in, e_out, it]\n",
    "\n",
    "def experiment_2(N):\n",
    "  \n",
    "    np.random.seed()\n",
    "    \n",
    "    x = generate_data(N)\n",
    "    \n",
    "    y = f(x)\n",
    "    \n",
    "    add_noise(y)\n",
    "    \n",
    "    w_lin = linear_regression(x, y)\n",
    "    \n",
    "    y_g = calc_linear_y(w_lin, x)\n",
    "\n",
    "    e_in = np.count_nonzero( y - y_g ) / y.shape[0]\n",
    "    \n",
    "    return e_in\n",
    "\n",
    "def experiment_3(N):\n",
    "  \n",
    "    np.random.seed()\n",
    "    \n",
    "    x = generate_data(N)\n",
    "    \n",
    "    y = f(x)\n",
    "    \n",
    "    add_noise(y)\n",
    "    \n",
    "    w_nonlin = nonlinear_regression(x, y)\n",
    "    \n",
    "    return w_nonlin\n",
    "\n",
    "def experiment_4(N):\n",
    "  \n",
    "    np.random.seed()\n",
    "    \n",
    "    x = generate_data(N)\n",
    "    \n",
    "    y = f(x)\n",
    "    \n",
    "    add_noise(y)\n",
    "    \n",
    "    w_nonlin = nonlinear_regression(x, y)\n",
    "    \n",
    "    e_out = calc_nonlinear_e_out(f, w_nonlin)\n",
    "\n",
    "    return e_out"
   ]
  },
  {
   "cell_type": "code",
   "execution_count": 5,
   "metadata": {
    "collapsed": false,
    "deletable": true,
    "editable": true
   },
   "outputs": [],
   "source": [
    "\"\"\"\n",
    "Executa um certo número de experimentos paralelamente\n",
    "Caso o número de processos não seja espeficidado,\n",
    "o multiprocessing utiliza o valor padrão,\n",
    "que costuma ser o número de processadores\n",
    "\"\"\"\n",
    "def run_experiment(N, num_exp, exp_id, processes=None):\n",
    "    pool = mp.Pool(processes)\n",
    "    \n",
    "    function = None\n",
    "    \n",
    "    if exp_id == 1:\n",
    "        function = experiment_1\n",
    "    elif exp_id == 2:\n",
    "        function = experiment_2\n",
    "    elif exp_id == 3:\n",
    "        function = experiment_3\n",
    "    elif exp_id == 4:\n",
    "        function = experiment_4\n",
    "    else:\n",
    "        print('Invalid experiment!')\n",
    "        return None\n",
    "    # Executa os experimentos 'num_exp' vezes, passando como\n",
    "    # parâmetro para cada um, o número de dados N a serem gerados\n",
    "    results = np.array(pool.map(function, [N] * num_exp))\n",
    "    \n",
    "    pool.close()\n",
    "    \n",
    "    # Calcula a média dos resuldados por coluna\n",
    "    return np.mean(results, axis=0)"
   ]
  },
  {
   "cell_type": "code",
   "execution_count": 6,
   "metadata": {
    "collapsed": false
   },
   "outputs": [
    {
     "name": "stdout",
     "output_type": "stream",
     "text": [
      "Question 1: 0.03957\n",
      "Question 2: 0.049562\n"
     ]
    }
   ],
   "source": [
    "result_1, result_2 = run_experiment(100, 1000, 1)[:2]\n",
    "print('Question 1:', result_1)\n",
    "print('Question 2:', result_2)"
   ]
  },
  {
   "cell_type": "code",
   "execution_count": 7,
   "metadata": {
    "collapsed": false
   },
   "outputs": [
    {
     "name": "stdout",
     "output_type": "stream",
     "text": [
      "Question 3: 6.107\n"
     ]
    }
   ],
   "source": [
    "result_3 = run_experiment(10, 1000, 1)[2]\n",
    "print('Question 3:', result_3)"
   ]
  },
  {
   "cell_type": "code",
   "execution_count": 8,
   "metadata": {
    "collapsed": false
   },
   "outputs": [
    {
     "name": "stdout",
     "output_type": "stream",
     "text": [
      "Question 4: 0.504188\n"
     ]
    }
   ],
   "source": [
    "result_4 = run_experiment(1000, 1000, 2)\n",
    "print('Question 4:', result_4)"
   ]
  },
  {
   "cell_type": "code",
   "execution_count": 9,
   "metadata": {
    "collapsed": false
   },
   "outputs": [
    {
     "name": "stdout",
     "output_type": "stream",
     "text": [
      "Question 5: [-1.022  0.075  0.002 -0.052  1.582  1.617]\n"
     ]
    }
   ],
   "source": [
    "result_5 = np.around(run_experiment(1000, 1, 3), decimals=3)\n",
    "print('Question 5:', result_5)"
   ]
  },
  {
   "cell_type": "code",
   "execution_count": 10,
   "metadata": {
    "collapsed": false
   },
   "outputs": [
    {
     "name": "stdout",
     "output_type": "stream",
     "text": [
      "Question 6: 0.127\n"
     ]
    }
   ],
   "source": [
    "result_6 = np.around(run_experiment(1000, 1000, 4), decimals=3)\n",
    "print('Question 6:', result_6)"
   ]
  }
 ],
 "metadata": {
  "kernelspec": {
   "display_name": "Python 3",
   "language": "python",
   "name": "python3"
  },
  "language_info": {
   "codemirror_mode": {
    "name": "ipython",
    "version": 3
   },
   "file_extension": ".py",
   "mimetype": "text/x-python",
   "name": "python",
   "nbconvert_exporter": "python",
   "pygments_lexer": "ipython3",
   "version": "3.5.2"
  }
 },
 "nbformat": 4,
 "nbformat_minor": 2
}
