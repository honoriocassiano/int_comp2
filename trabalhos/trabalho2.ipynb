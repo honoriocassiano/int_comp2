{
 "cells": [
  {
   "cell_type": "code",
   "execution_count": 9,
   "metadata": {
    "collapsed": true,
    "deletable": true,
    "editable": true
   },
   "outputs": [],
   "source": [
    "import numpy as np\n",
    "import multiprocessing as mp\n",
    "\n",
    "from functools import partial\n",
    "from matplotlib import pyplot as plt"
   ]
  },
  {
   "cell_type": "code",
   "execution_count": 37,
   "metadata": {
    "collapsed": true,
    "deletable": true,
    "editable": true
   },
   "outputs": [],
   "source": [
    "\"\"\"\n",
    "Gera uma reta aleatória\n",
    "\"\"\"\n",
    "def generate_line():\n",
    "    \n",
    "    # Dimensões do poblema\n",
    "    d = 2\n",
    "    \n",
    "    # Gera 2 pontos aleatórios entre 0 e 1 e os converte para\n",
    "    # o intervalo entre -1 e 1\n",
    "    p1 = np.random.rand(d) * 2 - 1\n",
    "    p2 = np.random.rand(d) * 2 - 1\n",
    "    \n",
    "    # Calcula a reta na forma `y=ax + b` entre os pontos\n",
    "    a = (p2[1] - p1[1]) / (p2[0] - p1[0])\n",
    "    b = p1[1] - a*p1[0]\n",
    "\n",
    "    return np.array([b, a, -1])\n",
    "\n",
    "\"\"\"\n",
    "Gera os dados baseados em uma reta\n",
    "\"\"\"\n",
    "def generate_data(line, n):\n",
    "    \n",
    "    # Gera 'n' pontos (x, y) aleatoriamente entre 0 e 1\n",
    "    # e os converte para o intervalo -1 e 1\n",
    "    points = (np.random.rand(n, 2) * 2) - 1\n",
    "    \n",
    "    return points\n",
    "\n",
    "\"\"\"\n",
    "Calcula os valores de saída da função ideal\n",
    "\"\"\"\n",
    "def calc_y(line, data):\n",
    "    \n",
    "    y = line[0] + np.dot(data, line[1:])\n",
    "    \n",
    "    # Transforma os valores em -1 ou 1\n",
    "    # Valores em cima da reta são considerados -1\n",
    "    y = np.where(y > 0, 1, -1)\n",
    "    \n",
    "    return y"
   ]
  },
  {
   "cell_type": "code",
   "execution_count": 64,
   "metadata": {
    "collapsed": true
   },
   "outputs": [],
   "source": [
    "\"\"\"\n",
    "Executa o perceptron para um conjunto de dados e de pesos iniciais\n",
    "Caso os pesos não sejam especificados, eles serão o vetor nulo\n",
    "\"\"\"\n",
    "def perceptron(data, y, weights=None):\n",
    "    if weights is None:\n",
    "        # Cria um vetor de zeros do tamanho da quantidade de dimensões + viés\n",
    "        weights = np.zeros(data.shape[1]+1 if len(data.shape) > 1 else 1)\n",
    "\n",
    "    # Contador de iterações\n",
    "    it = 0\n",
    "\n",
    "    # Adiciona a coluna do viés ao X\n",
    "    m_data = np.concatenate((np.ones((data.shape[0], 1)), data), axis=1)\n",
    "    \n",
    "    # Vetor que indica quais pontos estão classificados erroneamente\n",
    "    # Inicialmente começa com 1(True) para todos os valores,\n",
    "    # pois nenhum dado foi classificado\n",
    "    miscl_mask = np.ones(m_data.shape[0], dtype=bool)\n",
    "    \n",
    "    # Filtra os dados para que não foram classificados\n",
    "    miscl_data = m_data[miscl_mask]\n",
    "    \n",
    "    # Executar até que não haja mais pontos classificados erroneamente\n",
    "    while miscl_data.shape[0] > 0:\n",
    "        \n",
    "        # Filtra os dados de saída não classificados\n",
    "        miscl_y = y[miscl_mask]\n",
    "\n",
    "        # Seleciona um ponto aleatório dentro o conjunto dos não classificados\n",
    "        i = np.random.randint(miscl_data.shape[0])\n",
    "\n",
    "        # Atualiza os pesos\n",
    "        weights += miscl_y[i] * miscl_data[i]\n",
    "\n",
    "        # Calcula as saídas com os novos pesos\n",
    "        temp = np.sign(np.dot(m_data, weights))\n",
    "        \n",
    "        # Atualiza os pontos não classificados\n",
    "        # Caso os valores calculados sejam diferentes dos corretos\n",
    "        # a subtração vai dar um valor diferente de 0\n",
    "        # que quando convertido para um tipo 'bool' valerá 'True'\n",
    "        # ou seja, classificado erroneamente\n",
    "        miscl_mask = np.array( temp - y, dtype=bool)\n",
    "        \n",
    "        # Atualiza os dados classificados erroneamente\n",
    "        miscl_data = m_data[miscl_mask]\n",
    "        \n",
    "        # Atualiza a iteração do algoritmo\n",
    "        it += 1\n",
    "        \n",
    "    # Retorna os pesos finais e o número de iterações\n",
    "    return weights, it"
   ]
  },
  {
   "cell_type": "code",
   "execution_count": 39,
   "metadata": {
    "collapsed": true
   },
   "outputs": [],
   "source": [
    "def lin_regression(x, y):\n",
    "    \n",
    "    m_x = np.concatenate((np.ones((x.shape[0], 1)), x), axis=1)\n",
    "    \n",
    "    x_dagger = np.dot( np.linalg.inv( np.dot(m_x.T , m_x) ), m_x.T)\n",
    "\n",
    "    w_lin = np.dot(x_dagger, y)\n",
    "    \n",
    "    return w_lin"
   ]
  },
  {
   "cell_type": "code",
   "execution_count": 66,
   "metadata": {
    "collapsed": true,
    "deletable": true,
    "editable": true
   },
   "outputs": [],
   "source": [
    "def calc_error(line, w):\n",
    "    \n",
    "    # Gera mil pontos para serem avaliados\n",
    "    ev_data = generate_data(line, 1000)\n",
    "    \n",
    "    # Saída ideal\n",
    "    ev_f_y = calc_y(line, ev_data)\n",
    "    \n",
    "    # Saída gerada pela g(x)\n",
    "    ev_g_y = calc_y(w, ev_data)\n",
    "    \n",
    "    # Conta todos os pontos em que as saídas não foram iguais\n",
    "    misclassified = np.count_nonzero(ev_f_y - ev_g_y)\n",
    "\n",
    "    # Calcula a porcentagem dos pontos classificados erroneamente\n",
    "    return misclassified / ev_data.shape[0]\n",
    "\n",
    "\n",
    "def experiment(N):\n",
    "    line = generate_line()\n",
    "\n",
    "    x = generate_data(line, N)\n",
    "    y = calc_y(line, x)\n",
    "    \n",
    "    w_lin = lin_regression(x, y)\n",
    "    \n",
    "    y_g = calc_y(w_lin, x)\n",
    "\n",
    "    e_in = np.count_nonzero( y - y_g ) / y.shape[0]\n",
    "    \n",
    "    e_out = calc_error(line, w_lin)\n",
    "    \n",
    "    w_perc, it = perceptron(x, y, w_lin)\n",
    "    \n",
    "    return [e_in, e_out, it]"
   ]
  },
  {
   "cell_type": "code",
   "execution_count": 69,
   "metadata": {
    "collapsed": true,
    "deletable": true,
    "editable": true
   },
   "outputs": [],
   "source": [
    "\"\"\"\n",
    "Executa um certo número de experimentos paralelamente\n",
    "Caso o número de processos não seja espeficidado,\n",
    "o multiprocessing utiliza o valor padrão,\n",
    "que costuma ser o número de processadores\n",
    "\"\"\"\n",
    "def run_experiment(N, num_exp, processes=None):\n",
    "    pool = mp.Pool(processes)\n",
    "    \n",
    "    # Executa os experimentos 'num_exp' vezes, passando como\n",
    "    # parâmetro para cada um, o número de dados N a serem gerados\n",
    "    results = np.array(pool.map(experiment, [N] * num_exp))\n",
    "    \n",
    "    # Calcula a média dos resuldados por coluna (iterações, erro)\n",
    "    return np.mean(results, axis=0)"
   ]
  },
  {
   "cell_type": "code",
   "execution_count": 70,
   "metadata": {
    "collapsed": false,
    "deletable": true,
    "editable": true
   },
   "outputs": [
    {
     "name": "stdout",
     "output_type": "stream",
     "text": [
      "Question 1: 0.03872\n",
      "Question 2: 0.050184\n",
      "Question 2: 6.959\n"
     ]
    }
   ],
   "source": [
    "result_1, result_2 = run_experiment(100, 1000)[0,1]\n",
    "result_3 = run_experiment(10, 1000)[2]\n",
    "\n",
    "print('Question 1:', result_1)\n",
    "print('Question 2:', result_2)\n",
    "print('Question 2:', result_3)"
   ]
  }
 ],
 "metadata": {
  "kernelspec": {
   "display_name": "Python 3",
   "language": "python",
   "name": "python3"
  },
  "language_info": {
   "codemirror_mode": {
    "name": "ipython",
    "version": 3
   },
   "file_extension": ".py",
   "mimetype": "text/x-python",
   "name": "python",
   "nbconvert_exporter": "python",
   "pygments_lexer": "ipython3",
   "version": "3.5.2"
  }
 },
 "nbformat": 4,
 "nbformat_minor": 2
}
