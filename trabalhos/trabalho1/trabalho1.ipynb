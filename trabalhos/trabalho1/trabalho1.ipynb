{
 "cells": [
  {
   "cell_type": "code",
   "execution_count": 1,
   "metadata": {
    "collapsed": true,
    "deletable": true,
    "editable": true
   },
   "outputs": [],
   "source": [
    "import numpy as np\n",
    "import matplotlib.pyplot as plt\n",
    "import multiprocessing as mp"
   ]
  },
  {
   "cell_type": "code",
   "execution_count": 2,
   "metadata": {
    "collapsed": true,
    "deletable": true,
    "editable": true
   },
   "outputs": [],
   "source": [
    "\"\"\"\n",
    "Gera uma reta aleatória\n",
    "\"\"\"\n",
    "def generate_line():\n",
    "    \n",
    "    # Dimensões do poblema\n",
    "    d = 2\n",
    "    \n",
    "    # Gera 2 pontos aleatórios entre 0 e 1 e os converte para\n",
    "    # o intervalo entre -1 e 1\n",
    "    p1 = np.random.rand(d) * 2 - 1\n",
    "    p2 = np.random.rand(d) * 2 - 1\n",
    "    \n",
    "    # Calcula a reta na forma `y=ax + b` entre os pontos\n",
    "    a = (p2[1] - p1[1]) / (p2[0] - p1[0])\n",
    "    b = p1[1] - a*p1[0]\n",
    "\n",
    "    return np.array([b, a, -1])\n",
    "\n",
    "\"\"\"\n",
    "Gera os dados baseados em uma reta\n",
    "\"\"\"\n",
    "def generate_data(line, n):\n",
    "    \n",
    "    # Gera 'n' pontos (x, y) aleatoriamente entre 0 e 1\n",
    "    # e os converte para o intervalo -1 e 1\n",
    "    points = (np.random.rand(n, 2) * 2) - 1\n",
    "    \n",
    "    return points\n",
    "\n",
    "\"\"\"\n",
    "Calcula os valores de saída da função ideal\n",
    "\"\"\"\n",
    "def calc_y(line, data):\n",
    "    y = line[0] + np.dot(data, line[1:])\n",
    "    \n",
    "    # Transforma os valores em -1 ou 1\n",
    "    # Valores em cima da reta são considerados -1\n",
    "    y = np.where(y > 0, 1, -1)\n",
    "    \n",
    "    return y"
   ]
  },
  {
   "cell_type": "code",
   "execution_count": 3,
   "metadata": {
    "collapsed": false,
    "deletable": true,
    "editable": true
   },
   "outputs": [],
   "source": [
    "\"\"\"\n",
    "Executa o perceptron para um conjunto de dados e de pesos iniciais\n",
    "Caso os pesos não sejam especificados, eles serão o vetor nulo\n",
    "\"\"\"\n",
    "def perceptron(data, y, weights=None):\n",
    "    if weights is None:\n",
    "        # Cria um vetor de zeros do tamanho da quantidade de dimensões + viés\n",
    "        weights = np.zeros(data.shape[1]+1 if len(data.shape) > 1 else 1)\n",
    "\n",
    "    # Contador de iterações\n",
    "    it = 0\n",
    "\n",
    "    # Adiciona a coluna do viés ao X\n",
    "    m_data = np.concatenate((np.ones((data.shape[0], 1)), data), axis=1)\n",
    "    \n",
    "    # Vetor que indica quais pontos estão classificados erroneamente\n",
    "    # Inicialmente começa com 1(True) para todos os valores,\n",
    "    # pois nenhum dado foi classificado\n",
    "    miscl_mask = np.ones(m_data.shape[0], dtype=bool)\n",
    "    \n",
    "    # Filtra os dados para que não foram classificados\n",
    "    miscl_data = m_data[miscl_mask]\n",
    "    \n",
    "    # Executar até que não haja mais pontos classificados erroneamente\n",
    "    while miscl_data.shape[0] > 0:\n",
    "        \n",
    "        # Filtra os dados de saída não classificados\n",
    "        miscl_y = y[miscl_mask]\n",
    "\n",
    "        # Seleciona um ponto aleatório dentro o conjunto dos não classificados\n",
    "        i = np.random.randint(miscl_data.shape[0])\n",
    "\n",
    "        # Atualiza os pesos\n",
    "        weights += miscl_y[i] * miscl_data[i]\n",
    "\n",
    "        # Calcula as saídas com os novos pesos\n",
    "        temp = np.sign(np.dot(m_data, weights))\n",
    "        \n",
    "        # Atualiza os pontos não classificados\n",
    "        # Caso os valores calculados sejam diferentes dos corretos\n",
    "        # a subtração vai dar um valor diferente de 0\n",
    "        # que quando convertido para um tipo 'bool' valerá 'True'\n",
    "        # ou seja, classificado erroneamente\n",
    "        miscl_mask = np.array( temp - y, dtype=bool)\n",
    "        \n",
    "        # Atualiza os dados classificados erroneamente\n",
    "        miscl_data = m_data[miscl_mask]\n",
    "        \n",
    "        # Atualiza a iteração do algoritmo\n",
    "        it += 1\n",
    "        \n",
    "    # Retorna os pesos finais e o número de iterações\n",
    "    return weights, it"
   ]
  },
  {
   "cell_type": "code",
   "execution_count": 4,
   "metadata": {
    "collapsed": true,
    "deletable": true,
    "editable": true
   },
   "outputs": [],
   "source": [
    "\"\"\"\n",
    "Exibe o gráfico de um experimento\n",
    "\"\"\"\n",
    "def plot_experiment(data, y, line, w_line):\n",
    "    \n",
    "    # Cores dos pontos, dependendo de em qual lado da reta eles estão\n",
    "    colormap = [ 'r' if y_n > 0 else 'g' for y_n in y ]\n",
    "    \n",
    "    # Limites para o gráfico\n",
    "    plt.ylim([-1, 1])\n",
    "    plt.xlim([-1, 1])\n",
    "    \n",
    "    # Funções f(x) e g(x)\n",
    "    f = lambda x: -(line[0]/line[2] + (line[1]/line[2]) * x)\n",
    "    g = lambda x: -(w_line[0]/w_line[2] + (w_line[1]/w_line[2]) * x)\n",
    "    \n",
    "    bounds = np.array([-1, 1])\n",
    "    \n",
    "    f_y = f(bounds)\n",
    "    g_y = g(bounds)\n",
    "    \n",
    "    # Gera a linha para as funções\n",
    "    plt.plot(bounds, f_y, label='f(x)')\n",
    "    plt.plot(bounds, g_y, label='g(x)')\n",
    "    \n",
    "    # Exibe a legenda do lado de fora do gráfico\n",
    "    plt.legend(bbox_to_anchor=(1,1), loc=\"upper left\")\n",
    "    \n",
    "    # Gera os pontos\n",
    "    plt.scatter(data[:, 0], data[:, 1], c=colormap)\n",
    "    \n",
    "    # Exibe o gráfico\n",
    "    plt.show()"
   ]
  },
  {
   "cell_type": "code",
   "execution_count": 5,
   "metadata": {
    "collapsed": false,
    "deletable": true,
    "editable": true
   },
   "outputs": [],
   "source": [
    "\"\"\"\n",
    "Executa um experimento de acordo com a quantidade de dados a serem gerados\n",
    "\"\"\"\n",
    "def experiment(N, plot=False):\n",
    "    \n",
    "    # Gera os dados e roda o perceptron\n",
    "    line = generate_line()\n",
    "    data = generate_data(line, N)\n",
    "    y = calc_y(line, data)\n",
    "    \n",
    "    w, it = perceptron(data, y)\n",
    "\n",
    "    if plot:\n",
    "        plot_experiment(data, y, line, w)\n",
    "        \n",
    "    else:\n",
    "        error = calc_error(line, w)\n",
    "        \n",
    "        # Retorna o número de iterações e o erro fora da amostra\n",
    "        return [it, error]\n",
    "    \n",
    "def calc_error(line, w):\n",
    "    \n",
    "    # Gera mil pontos para serem avaliados\n",
    "    ev_data = generate_data(line, 1000)\n",
    "    \n",
    "    # Saída ideal\n",
    "    ev_f_y = calc_y(line, ev_data)\n",
    "    \n",
    "    # Saída gerada pela g(x)\n",
    "    ev_g_y = calc_y(w, ev_data)\n",
    "    \n",
    "    # Conta todos os pontos em que as saídas não foram iguais\n",
    "    misclassified = np.count_nonzero(ev_f_y - ev_g_y)\n",
    "\n",
    "    # Calcula a porcentagem dos pontos classificados erroneamente\n",
    "    return misclassified / ev_data.shape[0]"
   ]
  },
  {
   "cell_type": "code",
   "execution_count": 6,
   "metadata": {
    "collapsed": true,
    "deletable": true,
    "editable": true
   },
   "outputs": [],
   "source": [
    "\"\"\"\n",
    "Executa um certo número de experimentos paralelamente\n",
    "Caso o número de processos não seja espeficidado,\n",
    "o multiprocessing utiliza o valor padrão,\n",
    "que costuma ser o número de processadores\n",
    "\"\"\"\n",
    "def run_experiment(N, num_exp, processes=None):\n",
    "    pool = mp.Pool(processes)\n",
    "    \n",
    "    # Executa os experimentos 'num_exp' vezes, passando como\n",
    "    # parâmetro para cada um, o número de dados N a serem gerados\n",
    "    results = np.array(pool.map(experiment, [N] * num_exp))\n",
    "    \n",
    "    pool.close()\n",
    "    \n",
    "    # Calcula a média dos resuldados por coluna (iterações, erro)\n",
    "    return np.mean(results, axis=0)"
   ]
  },
  {
   "cell_type": "code",
   "execution_count": 15,
   "metadata": {
    "collapsed": false,
    "deletable": true,
    "editable": true
   },
   "outputs": [
    {
     "name": "stdout",
     "output_type": "stream",
     "text": [
      "Teste 1: 8.141\n",
      "Teste 2: 0.112643\n",
      "Teste 3: 97.377\n",
      "Teste 4: 0.0142\n"
     ]
    }
   ],
   "source": [
    "test_1, test_2 = run_experiment(10, 1000)\n",
    "test_3, test_4 = run_experiment(100, 1000)\n",
    "\n",
    "print('Teste 1:', test_1)\n",
    "print('Teste 2:', test_2)\n",
    "\n",
    "print('Teste 3:', test_3)\n",
    "print('Teste 4:', test_4)"
   ]
  },
  {
   "cell_type": "code",
   "execution_count": 13,
   "metadata": {
    "collapsed": false,
    "deletable": true,
    "editable": true
   },
   "outputs": [
    {
     "data": {
      "image/png": "[encoded data removed]",
      "text/plain": [
       "<matplotlib.figure.Figure at 0x7f6e82783a90>"
      ]
     },
     "metadata": {},
     "output_type": "display_data"
    }
   ],
   "source": [
    "experiment(10, plot=True)"
   ]
  },
  {
   "cell_type": "code",
   "execution_count": 14,
   "metadata": {
    "collapsed": false,
    "deletable": true,
    "editable": true
   },
   "outputs": [
    {
     "data": {
      "image/png": "[encoded data removed]",
      "text/plain": [
       "<matplotlib.figure.Figure at 0x7f6e80469a20>"
      ]
     },
     "metadata": {},
     "output_type": "display_data"
    }
   ],
   "source": [
    "experiment(100, plot=True)"
   ]
  }
 ],
 "metadata": {
  "kernelspec": {
   "display_name": "Python 3",
   "language": "python",
   "name": "python3"
  },
  "language_info": {
   "codemirror_mode": {
    "name": "ipython",
    "version": 3
   },
   "file_extension": ".py",
   "mimetype": "text/x-python",
   "name": "python",
   "nbconvert_exporter": "python",
   "pygments_lexer": "ipython3",
   "version": "3.5.2"
  }
 },
 "nbformat": 4,
 "nbformat_minor": 2
}
