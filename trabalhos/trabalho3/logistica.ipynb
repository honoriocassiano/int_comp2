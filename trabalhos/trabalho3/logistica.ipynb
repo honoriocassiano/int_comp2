{
 "cells": [
  {
   "cell_type": "code",
   "execution_count": 1,
   "metadata": {
    "collapsed": true,
    "deletable": true,
    "editable": true
   },
   "outputs": [],
   "source": [
    "import numpy as np\n",
    "import multiprocessing as mp"
   ]
  },
  {
   "cell_type": "code",
   "execution_count": 2,
   "metadata": {
    "collapsed": true,
    "deletable": true,
    "editable": true
   },
   "outputs": [],
   "source": [
    "###########################################\n",
    "############ Questões 1, 2 e 3 ############\n",
    "###########################################\n",
    "\n",
    "\"\"\"\n",
    "Gera uma reta aleatória\n",
    "\"\"\"\n",
    "def generate_line():\n",
    "    \n",
    "    # Dimensões do poblema\n",
    "    d = 2\n",
    "    \n",
    "    # Gera 2 pontos aleatórios entre 0 e 1 e os converte para\n",
    "    # o intervalo entre -1 e 1\n",
    "    p1 = np.random.rand(d) * 2 - 1\n",
    "    p2 = np.random.rand(d) * 2 - 1\n",
    "    \n",
    "    # Calcula a reta na forma `y=ax + b` entre os pontos\n",
    "    a = (p2[1] - p1[1]) / (p2[0] - p1[0])\n",
    "    b = p1[1] - a*p1[0]\n",
    "\n",
    "    return np.array([b, a, -1])\n",
    "\n",
    "def generate_activation_function():\n",
    "    \n",
    "    # Dimensões do poblema\n",
    "    d = 2\n",
    "    \n",
    "    # Gera 2 pontos aleatórios entre 0 e 1 e os converte para\n",
    "    # o intervalo entre -1 e 1\n",
    "    p1 = np.random.rand(d)\n",
    "    p2 = np.random.rand(d)\n",
    "    \n",
    "    # Calcula a reta na forma `y=ax + b` entre os pontos\n",
    "    a = (p2[1] - p1[1]) / (p2[0] - p1[0])\n",
    "    b = p1[1] - a*p1[0]\n",
    "\n",
    "    return lambda x: np.clip(a*x + b, 0, 1)\n",
    "\n",
    "\n",
    "\"\"\"\n",
    "Gera os dados baseados em uma reta\n",
    "\"\"\"\n",
    "def generate_data(n):\n",
    "    \n",
    "    # Gera 'n' pontos (x, y) aleatoriamente entre 0 e 1\n",
    "    # e os converte para o intervalo -1 e 1\n",
    "    points = (np.random.rand(n, 2) * 2) - 1\n",
    "    \n",
    "    return points\n",
    "\n",
    "\"\"\"\n",
    "Calcula os valores de saída da função ideal\n",
    "\"\"\"\n",
    "def calc_y(line, data):\n",
    "    \n",
    "    y = line[0] + np.dot(data, line[1:])\n",
    "    \n",
    "    # Transforma os valores em -1 ou 1\n",
    "    # Valores em cima da reta são considerados -1\n",
    "    y = np.where(y > 0, 1, -1)\n",
    "    \n",
    "    return y\n",
    "\n",
    "\n",
    "\"\"\"\n",
    "\n",
    "\"\"\"\n",
    "def calc_prob_y(line, data):\n",
    "    \n",
    "    y = line[0] + np.dot(data, line[1:])\n",
    "    \n",
    "    # Transforma os valores em -1 ou 1\n",
    "    # Valores em cima da reta são considerados -1\n",
    "    # y = np.where(y > 0, 1, -1)\n",
    "    \n",
    "    return y\n",
    "\n",
    "\"\"\"\n",
    "\n",
    "\"\"\"\n",
    "def calc_logistic_y(line, data):\n",
    "    \n",
    "    y = line[0] + np.dot(data, line[1:])\n",
    "    \n",
    "    # Transforma os valores em -1 ou 1\n",
    "    # Valores em cima da reta são considerados -1\n",
    "    # y = np.where(y > 0, 1, -1)\n",
    "    \n",
    "    return y"
   ]
  },
  {
   "cell_type": "code",
   "execution_count": 22,
   "metadata": {
    "collapsed": false,
    "deletable": true,
    "editable": true
   },
   "outputs": [],
   "source": [
    "\"\"\"\n",
    "Calcula a regressão linear\n",
    "\"\"\"\n",
    "def logistic_regression(x, y, l_rate=0.01, term_crit=0.01, max_epochs=5000):\n",
    "    \n",
    "    it = 0\n",
    "    diff = float('inf')\n",
    "    prev_w = np.zeros(3)\n",
    "    w = prev_w\n",
    "    \n",
    "    m_x = np.concatenate((np.ones((x.shape[0], 1)), x), axis=1)\n",
    "    \n",
    "    while diff > term_crit and it < max_epochs:\n",
    "        \n",
    "        indices = np.arange(y.shape[0])\n",
    "        np.random.shuffle(indices)\n",
    "    \n",
    "        prev_w = w\n",
    "        \n",
    "        for n in indices:\n",
    "            \n",
    "            yn = y[n]\n",
    "            xn = m_x[n]\n",
    "            \n",
    "            grad = -xn * (yn / (1 + np.exp( yn * np.dot(w, xn) )))\n",
    "            \n",
    "            w = w - l_rate * grad\n",
    "            \n",
    "        temp = w - prev_w\n",
    "\n",
    "        it += 1\n",
    "        \n",
    "        diff = np.sqrt(temp.dot(temp)) \n",
    "        \n",
    "    return [w, it]"
   ]
  },
  {
   "cell_type": "code",
   "execution_count": 4,
   "metadata": {
    "collapsed": true,
    "deletable": true,
    "editable": true
   },
   "outputs": [],
   "source": [
    "\"\"\"\n",
    "Calcula o E_out para uma função linear\n",
    "\"\"\"\n",
    "def calc_log_e_out(line, w, act_f):\n",
    "    \n",
    "    # Gera mil pontos para serem avaliados\n",
    "    ev_data = generate_data(1000)\n",
    "    \n",
    "    # Saída ideal\n",
    "    ev_f_y = calc_y(line, ev_data)\n",
    "    \n",
    "    # Saída gerada pela g(x)\n",
    "#     ev_g_y =calc_y(w, ev_data)\n",
    "    ev_g_y = calc_logistic_y(w, ev_data)\n",
    "    \n",
    "#     print(ev_g_y)\n",
    "    \n",
    "    e_out = ev_f_y * np.log(1 / ev_g_y) + (1 - ev_f_y) * np.log(1 / (1 - ev_g_y))\n",
    "    \n",
    "    # Conta todos os pontos em que as saídas não foram iguais\n",
    "#     misclassified = np.count_nonzero(ev_f_y - ev_g_y)\n",
    "\n",
    "    # Calcula a porcentagem dos pontos classificados erroneamente\n",
    "    return np.sum(e_out)"
   ]
  },
  {
   "cell_type": "code",
   "execution_count": 13,
   "metadata": {
    "collapsed": false,
    "deletable": true,
    "editable": true
   },
   "outputs": [],
   "source": [
    "###########################################\n",
    "############### Experimentos ##############\n",
    "###########################################\n",
    "\n",
    "def experiment_1(N):\n",
    "    \n",
    "    np.random.seed()\n",
    "    \n",
    "    line = generate_line()\n",
    "    act_f = generate_activation_function()\n",
    "\n",
    "    x = generate_data(N)\n",
    "    y = calc_y(line, x)\n",
    "    \n",
    "    w_log = logistic_regression(x, y)\n",
    "    \n",
    "    e_out = calc_log_e_out(line, w_log, act_f)\n",
    "    \n",
    "    return e_out\n",
    "\n",
    "\n",
    "def experiment_2(N):\n",
    "    \n",
    "    np.random.seed()\n",
    "    \n",
    "    line = generate_line()\n",
    "\n",
    "    x = generate_data(N)\n",
    "    y = calc_y(line, x)\n",
    "    \n",
    "    w_log = logistic_regression(x, y)[1]\n",
    "    \n",
    "    return w_log\n",
    "    \n",
    "#     y_g = calc_y(w_lin, x)\n",
    "\n",
    "#     e_in = np.count_nonzero( y - y_g ) / y.shape[0]\n",
    "#     e_out = calc_linear_e_out(line, w_lin)\n",
    "    \n",
    "#     return [e_in, e_out, it, it2]\n",
    "\n"
   ]
  },
  {
   "cell_type": "code",
   "execution_count": 6,
   "metadata": {
    "collapsed": true,
    "deletable": true,
    "editable": true
   },
   "outputs": [],
   "source": [
    "\"\"\"\n",
    "Executa um certo número de experimentos paralelamente\n",
    "Caso o número de processos não seja espeficidado,\n",
    "o multiprocessing utiliza o valor padrão,\n",
    "que costuma ser o número de processadores\n",
    "\"\"\"\n",
    "def run_experiment(N, num_exp, exp_id, processes=None):\n",
    "    pool = mp.Pool(processes)\n",
    "    \n",
    "    function = None\n",
    "    \n",
    "    if exp_id == 1:\n",
    "        function = experiment_1\n",
    "    elif exp_id == 2:\n",
    "        function = experiment_2\n",
    "    else:\n",
    "        print('Invalid experiment!')\n",
    "        return None\n",
    "    \n",
    "    # Executa os experimentos 'num_exp' vezes, passando como\n",
    "    # parâmetro para cada um, o número de dados N a serem gerados\n",
    "    results = np.array(pool.map(function, [N] * num_exp))\n",
    "    \n",
    "    pool.close()\n",
    "    \n",
    "    # Calcula a média dos resultados por coluna\n",
    "    return np.mean(results, axis=0)"
   ]
  },
  {
   "cell_type": "code",
   "execution_count": 26,
   "metadata": {
    "collapsed": false,
    "deletable": true,
    "editable": true
   },
   "outputs": [
    {
     "data": {
      "text/plain": [
       "array([array([ 0.30146725,  0.06800198, -5.4187554 ]), 344.52], dtype=object)"
      ]
     },
     "execution_count": 26,
     "metadata": {},
     "output_type": "execute_result"
    }
   ],
   "source": [
    "run_experiment(100, 100, 1)"
   ]
  },
  {
   "cell_type": "code",
   "execution_count": 31,
   "metadata": {
    "collapsed": false,
    "deletable": true,
    "editable": true
   },
   "outputs": [
    {
     "data": {
      "text/plain": [
       "357.0"
      ]
     },
     "execution_count": 31,
     "metadata": {},
     "output_type": "execute_result"
    }
   ],
   "source": [
    "run_experiment(100, 1, 2)"
   ]
  }
 ],
 "metadata": {
  "kernelspec": {
   "display_name": "Python 3",
   "language": "python",
   "name": "python3"
  },
  "language_info": {
   "codemirror_mode": {
    "name": "ipython",
    "version": 3
   },
   "file_extension": ".py",
   "mimetype": "text/x-python",
   "name": "python",
   "nbconvert_exporter": "python",
   "pygments_lexer": "ipython3",
   "version": "3.5.2"
  }
 },
 "nbformat": 4,
 "nbformat_minor": 2
}
