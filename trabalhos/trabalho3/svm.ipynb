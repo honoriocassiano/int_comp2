{
 "cells": [
  {
   "cell_type": "code",
   "execution_count": 31,
   "metadata": {
    "collapsed": true
   },
   "outputs": [],
   "source": [
    "import pandas as pd\n",
    "import numpy as np\n",
    "import matplotlib.pyplot as plt"
   ]
  },
  {
   "cell_type": "code",
   "execution_count": 30,
   "metadata": {
    "collapsed": true
   },
   "outputs": [],
   "source": [
    "def read_dataset():\n",
    "    data = pd.read_csv('./data/banana.dat', comment='@', header=None)\n",
    "    \n",
    "    data.columns = ['x1', 'x2', 'y']\n",
    "    \n",
    "    return data"
   ]
  },
  {
   "cell_type": "code",
   "execution_count": 95,
   "metadata": {
    "collapsed": false
   },
   "outputs": [],
   "source": [
    "def plot_dataset(df):\n",
    "    \n",
    "    colormap = [ 'lightblue' if y_n > 0 else 'r' for y_n in df['y'] ]\n",
    "    \n",
    "    plt.figure(figsize=(10 * 1.05,10))\n",
    "    \n",
    "#     plt.plot(df[['x1', 'x2']], c=colormap)\n",
    "#     plt.legend(labels=['-1', '+1'], bbox_to_anchor=(1,1), loc=\"upper left\")\n",
    "#     plt.scatter(df['x1'], df['x2'], c=colormap)\n",
    "#     plt.scatter(df['x1'], df['x2'], c=colormap)\n",
    "\n",
    "    p1 = plt.scatter(df[df.y > 0]['x1'], df[df.y > 0]['x2'],\n",
    "                c=(0x80 / 255, 0xce / 255, 0xd6 / 255, 0.7), label='+1', marker='o')\n",
    "    \n",
    "    p2 = plt.scatter(df[df.y < 0]['x1'], df[df.y < 0]['x2'],\n",
    "                c=(0xf1 / 255, 0x89 / 255, 0x73 / 255, 0.7), label='-1', marker='o')\n",
    "    \n",
    "    plt.legend((p1, p2),\n",
    "           ('+1', '-1'),\n",
    "#            scatterpoints=1,\n",
    "#            loc='lower left',\n",
    "#            ncol=3,\n",
    "#            fontsize=8)\n",
    "              )\n",
    "    \n",
    "    plt.show()"
   ]
  },
  {
   "cell_type": "code",
   "execution_count": null,
   "metadata": {
    "collapsed": false
   },
   "outputs": [],
   "source": [
    "df = read_dataset()\n",
    "\n",
    "plot_dataset(df)"
   ]
  }
 ],
 "metadata": {
  "kernelspec": {
   "display_name": "Python 3",
   "language": "python",
   "name": "python3"
  },
  "language_info": {
   "codemirror_mode": {
    "name": "ipython",
    "version": 3
   },
   "file_extension": ".py",
   "mimetype": "text/x-python",
   "name": "python",
   "nbconvert_exporter": "python",
   "pygments_lexer": "ipython3",
   "version": "3.5.2"
  }
 },
 "nbformat": 4,
 "nbformat_minor": 2
}
