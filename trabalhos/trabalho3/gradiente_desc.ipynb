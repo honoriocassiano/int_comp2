{
 "cells": [
  {
   "cell_type": "code",
   "execution_count": 4,
   "metadata": {
    "collapsed": true,
    "deletable": true,
    "editable": true
   },
   "outputs": [],
   "source": [
    "from math import pow, exp\n",
    "\n",
    "import numpy as np"
   ]
  },
  {
   "cell_type": "code",
   "execution_count": 1,
   "metadata": {
    "collapsed": false,
    "deletable": true,
    "editable": true
   },
   "outputs": [],
   "source": [
    "def f(x):\n",
    "    \n",
    "    u = x[0]\n",
    "    v = x[1]\n",
    "    \n",
    "    return pow(u * exp(v) - 2 * v * exp(-u), 2)\n",
    "    \n",
    "def df(x):\n",
    "    \n",
    "    u = x[0]\n",
    "    v = x[1]\n",
    "    \n",
    "    temp1 = exp(u + v)\n",
    "    temp2 = 2 * exp(-2 * u) * (u * temp1 - 2 * v)\n",
    "    \n",
    "    du = (2*v + temp1) * temp2\n",
    "    dv = (-2 + u*temp1) * temp2\n",
    "    \n",
    "    return np.array([du, dv])"
   ]
  },
  {
   "cell_type": "code",
   "execution_count": 9,
   "metadata": {
    "collapsed": false,
    "deletable": true,
    "editable": true
   },
   "outputs": [],
   "source": [
    "def grad_descent(des_error=1.0e-14, max_iter=100):\n",
    "    it = 0\n",
    "\n",
    "    curr_x = np.array([1, 1])\n",
    "    prev_x = None\n",
    "    l_rate = 0.1\n",
    "    error = float('inf')\n",
    "    \n",
    "    while (error > des_error) and (it < max_iter):\n",
    "        \n",
    "        prev_x = curr_x\n",
    "\n",
    "        curr_x = curr_x - l_rate * df(prev_x)\n",
    "        \n",
    "        error = f(curr_x)\n",
    "        \n",
    "        it += 1\n",
    "    \n",
    "    return [curr_x, error, it]\n",
    "\n",
    "\n",
    "def coord_descent(des_error=1.0e-14, max_iter=100):\n",
    "    it = 0\n",
    "\n",
    "    curr_x = np.array([1, 1])\n",
    "    prev_x = None\n",
    "    l_rate = 0.1\n",
    "    error = float('inf')\n",
    "    \n",
    "    while (error > des_error) and (it < max_iter):\n",
    "        \n",
    "        prev_x = curr_x\n",
    "        \n",
    "        grad = df(prev_x)\n",
    "        \n",
    "        # Anula o valor de 'v' nas iterações pares\n",
    "        # e de 'u' nas ímpares\n",
    "        if it % 2 == 0:\n",
    "            grad[1] = 0\n",
    "        else:\n",
    "            grad[0] = 0\n",
    "\n",
    "        curr_x = curr_x - l_rate * grad\n",
    "        \n",
    "        error = f(curr_x)\n",
    "        \n",
    "        it += 1\n",
    "    \n",
    "    return [curr_x, error, it]"
   ]
  },
  {
   "cell_type": "code",
   "execution_count": 11,
   "metadata": {
    "collapsed": false,
    "deletable": true,
    "editable": true
   },
   "outputs": [
    {
     "data": {
      "text/plain": [
       "[array([ 6.2970759 , -2.85230695]), 0.13981379199615296, 30]"
      ]
     },
     "execution_count": 11,
     "metadata": {},
     "output_type": "execute_result"
    }
   ],
   "source": [
    "grad_descent()\n",
    "\n",
    "coord_descent(max_iter=30)"
   ]
  }
 ],
 "metadata": {
  "celltoolbar": "Raw Cell Format",
  "kernelspec": {
   "display_name": "Python 3",
   "language": "python",
   "name": "python3"
  },
  "language_info": {
   "codemirror_mode": {
    "name": "ipython",
    "version": 3
   },
   "file_extension": ".py",
   "mimetype": "text/x-python",
   "name": "python",
   "nbconvert_exporter": "python",
   "pygments_lexer": "ipython3",
   "version": "3.5.2"
  }
 },
 "nbformat": 4,
 "nbformat_minor": 2
}
